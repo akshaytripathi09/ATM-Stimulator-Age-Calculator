{
  "nbformat": 4,
  "nbformat_minor": 0,
  "metadata": {
    "colab": {
      "provenance": [],
      "authorship_tag": "ABX9TyOKRGjbnfQzYUUlx3GF+F+E",
      "include_colab_link": true
    },
    "kernelspec": {
      "name": "python3",
      "display_name": "Python 3"
    },
    "language_info": {
      "name": "python"
    }
  },
  "cells": [
    {
      "cell_type": "markdown",
      "metadata": {
        "id": "view-in-github",
        "colab_type": "text"
      },
      "source": [
        "<a href=\"https://colab.research.google.com/github/akshaytripathi09/ATM-Stimulator-Age-Calculator/blob/main/ATM_PROGRAM_%26_AGE_CALCULATOR.ipynb\" target=\"_parent\"><img src=\"https://colab.research.google.com/assets/colab-badge.svg\" alt=\"Open In Colab\"/></a>"
      ]
    },
    {
      "cell_type": "markdown",
      "source": [
        "# AGE CALCULATOR"
      ],
      "metadata": {
        "id": "-4Dxjayr3ra8"
      }
    },
    {
      "cell_type": "code",
      "source": [
        "##AGE CALCULATOR\n",
        "\n",
        " import datetime\n",
        "\n",
        "user_age = int(input(\"User age:\"))\n",
        "\n",
        "# Calculate duration in months\n",
        "current_date = datetime.datetime.now()\n",
        "birth_date = current_date - datetime.timedelta(days=user_age * 365)\n",
        "months = (current_date.year - birth_date.year) * 12 + (current_date.month - birth_date.month)\n",
        "\n",
        "# Calculate duration in weeks, days, hours, minutes, and seconds\n",
        "total_seconds = (current_date - birth_date).total_seconds()\n",
        "weeks = total_seconds / 604800\n",
        "days = total_seconds / 86400\n",
        "hours = total_seconds / 3600\n",
        "minutes = total_seconds / 60\n",
        "seconds = total_seconds\n",
        "\n",
        "print(f\"Your AGE is:\")\n",
        "print(f\"{months} months\")\n",
        "print(f\"{weeks} weeks\")\n",
        "print(f\"{days} days\")\n",
        "print(f\"{hours} hours\")\n",
        "print(f\"{minutes} minutes\")\n",
        "print(f\"{seconds} seconds\")\n",
        "\n",
        "\n",
        "\n"
      ],
      "metadata": {
        "colab": {
          "base_uri": "https://localhost:8080/"
        },
        "id": "I0MDpCftGwbZ",
        "outputId": "f1ff6e2c-68ba-4af6-9067-49fbc90863d1"
      },
      "execution_count": null,
      "outputs": [
        {
          "output_type": "stream",
          "name": "stdout",
          "text": [
            "User age:26\n",
            "Your AGE is:\n",
            "312 months\n",
            "1355.7142857142858 weeks\n",
            "9490.0 days\n",
            "227760.0 hours\n",
            "13665600.0 minutes\n",
            "819936000.0 seconds\n"
          ]
        }
      ]
    },
    {
      "cell_type": "markdown",
      "source": [
        "# ATM STIMULATOR"
      ],
      "metadata": {
        "id": "Ac9KnOHd3wfi"
      }
    },
    {
      "cell_type": "code",
      "source": [
        "# ATM STIMULATOR\n",
        "\n",
        "class ATM:\n",
        "\n",
        "  def __init__(self, pin_db, total_cash, name=\"SBI\"):\n",
        "    self.name = name\n",
        "    self.pin_db = pin_db\n",
        "    self.total_cash = total_cash\n",
        "\n",
        "  def refill(self, cash):\n",
        "    self.total_cash += cash\n",
        "\n",
        "  def add_user(self, c_no, pin):\n",
        "    self.pin_db[c_no] = pin\n",
        "\n",
        "  def validate_user(self, user):\n",
        "    print(f\"Welcome to {self.name} {user.name}.\")\n",
        "    validated = False\n",
        "    for i in range(3):\n",
        "      pin = int(input(\"Please enter you secret number: \"))\n",
        "      if pin==self.pin_db[user.card_number]:\n",
        "        validated = True\n",
        "        break\n",
        "    if not validated:\n",
        "      print(\"Your card is blocked for 5 minutes\")\n",
        "    return validated\n",
        "\n",
        "  def withdraw(self, user):\n",
        "    if not self.validate_user(user):\n",
        "      return\n",
        "    amount = int(input(\"Enter the amount: \"))\n",
        "    if amount>self.total_cash:\n",
        "      print(\"Not enough money! Kindly try other ATM.\")\n",
        "      return\n",
        "\n",
        "    if amount>user.balance:\n",
        "      print(\"You have not enough balance.\")\n",
        "      return\n",
        "\n",
        "    user.balance -= amount\n",
        "    self.total_cash -= amount\n",
        "\n",
        "  def deposit(self, user):\n",
        "    if not self.validate_user(user):\n",
        "      return\n",
        "    amount = int(input(\"Enter the amount: \"))\n",
        "    self.total_cash += amount\n",
        "    user.balance += amount\n",
        "\n",
        "  def check_balance(self, user):\n",
        "    if not self.validate_user(user):\n",
        "      return\n",
        "    print(\"Your total balance is:\",user.balance)\n",
        "\n",
        "# attr - name, card_number, balance\n",
        "class User:\n",
        "\n",
        "  def __init__(self, name, card_number, balance):\n",
        "    self.name = name\n",
        "    self.card_number = card_number\n",
        "    self.balance = balance\n",
        "\n",
        "  def withdraw(self, atm):\n",
        "    atm.withdraw(self)\n",
        "\n",
        "  def deposit(self, atm):\n",
        "    atm.deposit(self)\n",
        "\n",
        "  def check_balance(self, atm):\n",
        "    atm.check_balance(self)"
      ],
      "metadata": {
        "id": "65vf3iDmzOfj"
      },
      "execution_count": null,
      "outputs": []
    },
    {
      "cell_type": "code",
      "source": [
        "sbi_atm1 = ATM({}, 1000000)\n",
        "\n",
        "akshay = User(\"Akshay\", 12345678, 100000)\n",
        "\n",
        "sbi_atm1.add_user(akshay.card_number, 1234)"
      ],
      "metadata": {
        "id": "KltYBiJEzvtR"
      },
      "execution_count": null,
      "outputs": []
    },
    {
      "cell_type": "code",
      "source": [
        "akshay.withdraw(sbi_atm1)"
      ],
      "metadata": {
        "colab": {
          "base_uri": "https://localhost:8080/"
        },
        "id": "mNGIJ6cWz2uA",
        "outputId": "e040883b-5332-4eec-dde0-14d84cf13d1a"
      },
      "execution_count": null,
      "outputs": [
        {
          "name": "stdout",
          "output_type": "stream",
          "text": [
            "Welcome to SBI Akshay.\n",
            "Please enter you secret number: 1234\n",
            "Enter the amount: 5000\n"
          ]
        }
      ]
    },
    {
      "cell_type": "code",
      "source": [
        "akshay.check_balance(sbi_atm1)"
      ],
      "metadata": {
        "colab": {
          "base_uri": "https://localhost:8080/"
        },
        "id": "EtjmEXdz0TqS",
        "outputId": "adef618f-6e69-43cf-b908-0b919cf89b1f"
      },
      "execution_count": null,
      "outputs": [
        {
          "output_type": "stream",
          "name": "stdout",
          "text": [
            "Welcome to SBI Akshay.\n",
            "Please enter you secret number: 1234\n",
            "Your total balance is: 95000\n"
          ]
        }
      ]
    },
    {
      "cell_type": "code",
      "source": [
        "sbi_atm1.total_cash"
      ],
      "metadata": {
        "colab": {
          "base_uri": "https://localhost:8080/"
        },
        "id": "D2w-Sn_n0dIq",
        "outputId": "d990b389-7d6a-4b9d-fc12-7876363630ae"
      },
      "execution_count": null,
      "outputs": [
        {
          "output_type": "execute_result",
          "data": {
            "text/plain": [
              "1000000"
            ]
          },
          "metadata": {},
          "execution_count": 39
        }
      ]
    },
    {
      "cell_type": "code",
      "source": [
        "akshay.deposit(sbi_atm1)"
      ],
      "metadata": {
        "colab": {
          "base_uri": "https://localhost:8080/"
        },
        "id": "-29fN0xT0mZf",
        "outputId": "6920e3c8-7fcd-46cc-b286-003e8334d31f"
      },
      "execution_count": null,
      "outputs": [
        {
          "name": "stdout",
          "output_type": "stream",
          "text": [
            "Welcome to SBI Akshay.\n",
            "Please enter you secret number: 1234\n",
            "Enter the amount: 8000\n"
          ]
        }
      ]
    },
    {
      "cell_type": "code",
      "source": [
        "# Function to change PIN\n",
        "def change_pin():\n",
        "    current_pin = input(\"Enter your current PIN: \")\n",
        "    new_pin = input(\"Enter your new PIN: \")\n",
        "    confirm_pin = input(\"Confirm your new PIN: \")\n",
        "\n",
        "    if new_pin == confirm_pin:\n",
        "        print(\"PIN changed successfully!\")\n",
        "    else:\n",
        "        print(\"PIN change failed. New PINs do not match.\")\n",
        "\n",
        "# Function to block card for 15 minutes\n",
        "def block_card():\n",
        "    print(\"Your card has been blocked for 15 minutes.\")\n",
        "\n",
        "# Main function to simulate ATM operations\n",
        "def atm_simulator():\n",
        "    print(\"Welcome to the PUNJAB NATIONAL BANK.\")\n",
        "\n",
        "    while True:\n",
        "        print(\"\\nPlease select an option:\")\n",
        "        print(\"1. Change PIN\")\n",
        "        print(\"2. Block Card\")\n",
        "        print(\"3. Quit\")\n",
        "\n",
        "        choice = input(\"Enter your choice (1-3): \")\n",
        "\n",
        "        if choice == '1':\n",
        "            change_pin()\n",
        "        elif choice == '2':\n",
        "            block_card()\n",
        "        elif choice == '3':\n",
        "            print(\"Thank you for using PUNJAB NATIONAL BANK.!\")\n",
        "            break\n",
        "        else:\n",
        "            print(\"Invalid choice. Please try again.\")\n",
        "\n",
        "atm_simulator()"
      ],
      "metadata": {
        "colab": {
          "base_uri": "https://localhost:8080/"
        },
        "id": "q7QRYh_QVI0y",
        "outputId": "e85d6b4a-de36-4617-c6dd-4d289b2a4c9c"
      },
      "execution_count": null,
      "outputs": [
        {
          "output_type": "stream",
          "name": "stdout",
          "text": [
            "Welcome to the PUNJAB NATIONAL BANK.\n",
            "\n",
            "Please select an option:\n",
            "1. Change PIN\n",
            "2. Block Card\n",
            "3. Quit\n",
            "Enter your choice (1-3): 1\n",
            "Enter your current PIN: 1234\n",
            "Enter your new PIN: 4444\n",
            "Confirm your new PIN: 4444\n",
            "PIN changed successfully!\n",
            "\n",
            "Please select an option:\n",
            "1. Change PIN\n",
            "2. Block Card\n",
            "3. Quit\n",
            "Enter your choice (1-3): 2\n",
            "Your card has been blocked for 15 minutes.\n",
            "\n",
            "Please select an option:\n",
            "1. Change PIN\n",
            "2. Block Card\n",
            "3. Quit\n",
            "Enter your choice (1-3): 3\n",
            "Thank you for using PUNJAB NATIONAL BANK.!\n"
          ]
        }
      ]
    }
  ]
}